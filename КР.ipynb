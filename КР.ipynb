{
 "cells": [
  {
   "cell_type": "code",
   "execution_count": 2,
   "id": "5506fe37-68c9-4ff3-ac65-7241b8d0b8e6",
   "metadata": {},
   "outputs": [
    {
     "name": "stdout",
     "output_type": "stream",
     "text": [
      "17 1 4\n"
     ]
    }
   ],
   "source": [
    "from random import randint,seed\n",
    "seed(1014)\n",
    "#1 уровень 1 ЛР - 1 задание\n",
    "#2 уровень 2 ЛР - 1 задание\n",
    "#3 уровень 3 ЛР - 1 задание\n",
    "task1 = randint(1,18)\n",
    "task2 = randint(1,13)\n",
    "task3 = randint(1,14)\n",
    "print(task1,task2,task3)"
   ]
  },
  {
   "cell_type": "code",
   "execution_count": 4,
   "id": "2497b49e-44dd-4bb1-9208-f9f621182e82",
   "metadata": {},
   "outputs": [
    {
     "name": "stdout",
     "output_type": "stream",
     "text": [
      "112.69871339105873\n",
      "159.38632312717425\n",
      "195.21526579650475\n",
      "225.42404485768594\n",
      "252.0416632225712\n",
      "276.1086742570758\n",
      "298.243189360629\n",
      "318.84792613407416\n",
      "338.2026020006351\n",
      "356.51086939951773\n"
     ]
    }
   ],
   "source": [
    "#Считая, что Земля - идеальная сфера с радиусом R=6350, определить расстояние до линии\n",
    "#горизонта с высоты h=1,2,...,10\n",
    "R = 6350\n",
    "for h in range(1,11):\n",
    "    l = ((R+h)**2-R**2)**0.5\n",
    "    print(l)"
   ]
  },
  {
   "cell_type": "code",
   "execution_count": 7,
   "id": "6956ba52-1432-46aa-96a9-6146ae8dac6e",
   "metadata": {},
   "outputs": [
    {
     "name": "stdin",
     "output_type": "stream",
     "text": [
      " 120 девочка\n",
      " 130 мальчик\n",
      " 100 девочка\n",
      " 100 мальчик\n",
      " 180 девочка\n"
     ]
    },
    {
     "name": "stdout",
     "output_type": "stream",
     "text": [
      "Средний рост девочек:  133.33333333333334\n",
      "Средний рост мальчиков: 115.0\n"
     ]
    }
   ],
   "source": [
    "#Определить средний рост девочек и мальчиков одного класса. В классе учится n учеников\n",
    "n=5\n",
    "sum1=0\n",
    "sum2=0\n",
    "n1=0\n",
    "n2=0\n",
    "for i in range(n):\n",
    "    s = input('Введите рост и пол ученика через пробел')   \n",
    "    m = s.split(' ')\n",
    "    rost,pol = int(m[0]), str(m[1])    \n",
    "    if pol=='девочка':\n",
    "        sum1+=rost        \n",
    "        n1+=1\n",
    "    else:        \n",
    "        sum2+=rost\n",
    "        n2+=1\n",
    "print('Средний рост девочек: ',sum1/n1)\n",
    "print('Средний рост мальчиков:', sum2/n2)"
   ]
  },
  {
   "cell_type": "code",
   "execution_count": 10,
   "id": "26d9a62d-e441-4362-99b2-98996159a38f",
   "metadata": {},
   "outputs": [
    {
     "name": "stdin",
     "output_type": "stream",
     "text": [
      "Введите размерность массива  5\n",
      " 1\n",
      " 4\n",
      " 1\n",
      " 4\n",
      " 4\n"
     ]
    },
    {
     "name": "stdout",
     "output_type": "stream",
     "text": [
      "[1, 1, 1, 6, 10]\n"
     ]
    }
   ],
   "source": [
    "# Задан массив B. Максимальный элемент (или максимальные элементы если их несколько) \n",
    "#  заменить суммой элементов массива, расположенных до него (до каждого из них если их несколько)\n",
    "import copy\n",
    " \n",
    "s = int(input('Введите размерность массива '))\n",
    "m=[]\n",
    "for i in range(s):\n",
    "    i = int(input())\n",
    "    m.append(i)\n",
    " \n",
    "maxi = m[0] #можно найти maxi = max(m)\n",
    "for i in m:\n",
    "    if maxi<i:    \n",
    "        maxi = i\n",
    "k = copy.copy(m)\n",
    "s = 0\n",
    "for i in range(len(m)):\n",
    "    if m[i]==maxi:\n",
    "        k[i]=s\n",
    "    s+=m[i]\n",
    "print(k)\n",
    " "
   ]
  },
  {
   "cell_type": "code",
   "execution_count": null,
   "id": "69967881-0b1a-4237-bf8f-6977f66e367c",
   "metadata": {},
   "outputs": [],
   "source": []
  }
 ],
 "metadata": {
  "kernelspec": {
   "display_name": "anaconda-2024.02-py310",
   "language": "python",
   "name": "conda-env-anaconda-2024.02-py310-py"
  },
  "language_info": {
   "codemirror_mode": {
    "name": "ipython",
    "version": 3
   },
   "file_extension": ".py",
   "mimetype": "text/x-python",
   "name": "python",
   "nbconvert_exporter": "python",
   "pygments_lexer": "ipython3",
   "version": "3.10.14"
  }
 },
 "nbformat": 4,
 "nbformat_minor": 5
}
