{
 "cells": [
  {
   "cell_type": "code",
   "execution_count": 2,
   "id": "dec13530-8859-4941-a8db-4a2e361159f2",
   "metadata": {},
   "outputs": [
    {
     "name": "stdout",
     "output_type": "stream",
     "text": [
      "2\n"
     ]
    }
   ],
   "source": [
    "#Определяю номер\n",
    "import random\n",
    "from random import randint\n",
    "random.seed(14)\n",
    "x = randint(1,14)\n",
    "print(x)"
   ]
  },
  {
   "cell_type": "code",
   "execution_count": 6,
   "id": "288ad8c8-0545-4f42-9158-b12e53a810d6",
   "metadata": {},
   "outputs": [
    {
     "name": "stdin",
     "output_type": "stream",
     "text": [
      "Введите размерность массива  5\n",
      " 1\n",
      " 2\n",
      " 4\n",
      " 1\n",
      " 3\n"
     ]
    },
    {
     "name": "stdout",
     "output_type": "stream",
     "text": [
      "[1, 2, 4, 2]\n",
      "[1, 2, 4, 2]\n"
     ]
    }
   ],
   "source": [
    "# В одномерном массиве все элементы, расположенные после максимального,\n",
    "# заменить средним значением элементов массива\n",
    "\n",
    "s = int(input('Введите размерность массива '))\n",
    "m=[]\n",
    "for i in range(s):\n",
    "    i = int(input())\n",
    "    m.append(i)\n",
    "    \n",
    "#первый способ\n",
    "maxi = max(m)\n",
    "sr = int(sum(m)/len(m))\n",
    "\n",
    "for i in range(len(m)):\n",
    "    if int(m[i]) == maxi:\n",
    "        l = m[:i + 1]\n",
    "        break\n",
    "if m[len(m)-1]!=maxi:\n",
    "    l.append(sr)\n",
    "print(l)\n",
    "\n",
    "\n",
    "\n",
    "\n",
    "\n",
    "#второй способ\n",
    "maxi=-999999999\n",
    "sr=0\n",
    "n=s=0\n",
    "for i in m:\n",
    "    s+=1\n",
    "    if int(i)>maxi:\n",
    "        maxi = int(i)\n",
    "    sr+=int(i)\n",
    "    n+=1\n",
    "sr = int(sr/n)\n",
    "f=0\n",
    "for i in range(n):\n",
    "    if int(m[i])==maxi:\n",
    "        l = m[:i+1]\n",
    "        break\n",
    "    \n",
    "if m[s-1]!=maxi:\n",
    "    l.append(sr)\n",
    "print(l)"
   ]
  },
  {
   "cell_type": "code",
   "execution_count": 13,
   "id": "da159fd8-ecaf-4b2b-bfab-228ceceed36b",
   "metadata": {},
   "outputs": [
    {
     "name": "stdin",
     "output_type": "stream",
     "text": [
      "Введите размерность массива  5\n",
      " 1\n",
      " -3\n",
      " -1\n",
      " -1\n",
      " 6\n"
     ]
    },
    {
     "name": "stdout",
     "output_type": "stream",
     "text": [
      "[-1, -1]\n"
     ]
    }
   ],
   "source": [
    "# Задан одномерный массив. Сформировать другой одномерный массив из\n",
    "# отрицательных элементов, расположенных между максимальным и минимальным\n",
    "# элементами исходного массива\n",
    "\n",
    "s = int(input('Введите размерность массива '))\n",
    "m=[]\n",
    "for i in range(s):\n",
    "    i = int(input())\n",
    "    m.append(i)\n",
    "n =[]\n",
    "mini = m[0] # можно найти mini = min(m)\n",
    "maxi = m[0] # можно найти maxi = max(m)\n",
    "for i in range(len(m)):\n",
    "    if m[i]>maxi:\n",
    "        maxi=m[i]\n",
    "    if m[i]<mini:\n",
    "        mini=m[i]\n",
    "for i in range(len(m)):\n",
    "    if m[i]==maxi:\n",
    "        l=i\n",
    "    if m[i]==mini:\n",
    "        p=i\n",
    "if p<l:\n",
    "    #между максимальным и минимальным \n",
    "    for i in range(p+1,l):\n",
    "        if m[i]<0:\n",
    "            n.append(m[i])\n",
    "            \n",
    "if l<p:\n",
    "    #между минимальным и максимальным\n",
    "    for i in range(l+1,p):\n",
    "        if m[i]<0:\n",
    "            n.append(m[i])\n",
    "\n",
    "print(n)"
   ]
  },
  {
   "cell_type": "code",
   "execution_count": 15,
   "id": "68a4e3ea-cb2f-41a5-9a33-c820e41cbbd5",
   "metadata": {},
   "outputs": [
    {
     "name": "stdin",
     "output_type": "stream",
     "text": [
      "Введите размерность массива  5\n",
      " 1\n",
      " 5\n",
      " 2\n",
      " 5\n",
      " 5\n"
     ]
    },
    {
     "name": "stdout",
     "output_type": "stream",
     "text": [
      "[1, 6, 2, 7, 8]\n"
     ]
    }
   ],
   "source": [
    "# В одномерном массиве увеличить максимальные элементы на их порядковые номера\n",
    "# (1-й максимальный - на 1; 2-й - на 2; 3-й на 3 итд)\n",
    "\n",
    "\n",
    "\n",
    "s = int(input('Введите размерность массива '))\n",
    "m=[]\n",
    "for i in range(s):\n",
    "    i = int(input())\n",
    "    m.append(i)\n",
    "\n",
    "maxi = m[0] #можно найти maxi = max(m)\n",
    "for i in m:\n",
    "    if maxi<i:\n",
    "        maxi = i\n",
    "k=0\n",
    "for i in range(len(m)):\n",
    "    if m[i] == maxi:\n",
    "        k+=1\n",
    "        m[i]+=k\n",
    "print(m)\n",
    "        "
   ]
  },
  {
   "cell_type": "code",
   "execution_count": null,
   "id": "52fbe815-9482-4f29-a494-1abf8b058b92",
   "metadata": {},
   "outputs": [],
   "source": []
  }
 ],
 "metadata": {
  "kernelspec": {
   "display_name": "anaconda-ai-2024.04-py310",
   "language": "python",
   "name": "conda-env-anaconda-ai-2024.04-py310-py"
  },
  "language_info": {
   "codemirror_mode": {
    "name": "ipython",
    "version": 3
   },
   "file_extension": ".py",
   "mimetype": "text/x-python",
   "name": "python",
   "nbconvert_exporter": "python",
   "pygments_lexer": "ipython3",
   "version": "3.10.13"
  }
 },
 "nbformat": 4,
 "nbformat_minor": 5
}
