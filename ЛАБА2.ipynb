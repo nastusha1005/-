{
 "cells": [
  {
   "cell_type": "code",
   "execution_count": 3,
   "id": "c5422330-9a51-4ee6-b517-a9c2ad4f93ed",
   "metadata": {},
   "outputs": [
    {
     "name": "stdout",
     "output_type": "stream",
     "text": [
      "2\n"
     ]
    }
   ],
   "source": [
    "#Определяю свой номер\n",
    "import random\n",
    "from random import randint\n",
    "random.seed(14)\n",
    "x = randint(1,13)\n",
    "print(x)\n"
   ]
  },
  {
   "cell_type": "code",
   "execution_count": 9,
   "id": "401c45fa-1d26-4881-8090-663d34ef8e5d",
   "metadata": {},
   "outputs": [
    {
     "name": "stdin",
     "output_type": "stream",
     "text": [
      " 180 девочка\n",
      " 150 мальчик\n",
      " 120 девочка\n",
      " 140 мальчик\n",
      " 160 мальчик\n"
     ]
    },
    {
     "name": "stdout",
     "output_type": "stream",
     "text": [
      "Средний рост девочек:  150.0\n",
      "Средний рост мальчиков: 150.0\n"
     ]
    }
   ],
   "source": [
    "#Определить средний рост девочек и мальчиков одного класса. В классе учится n учеников\n",
    "n=5\n",
    "sum1=0\n",
    "sum2=0\n",
    "n1=0\n",
    "n2=0\n",
    "for i in range(n):\n",
    "    s = input()   \n",
    "    m = s.split(' ')\n",
    "    rost,pol = int(m[0]), str(m[1])    \n",
    "    if pol=='девочка':\n",
    "        sum1+=rost        \n",
    "        n1+=1\n",
    "    else:        \n",
    "        sum2+=rost\n",
    "        n2+=1\n",
    "print('Средний рост девочек: ',sum1/n1)\n",
    "print('Средний рост мальчиков:', sum2/n2)"
   ]
  },
  {
   "cell_type": "code",
   "execution_count": 35,
   "id": "0d8737fe-4a7a-4dc5-aa1b-36a3afcabbda",
   "metadata": {},
   "outputs": [
    {
     "name": "stdin",
     "output_type": "stream",
     "text": [
      "Введите координату центра через пробел  2 1\n",
      "Введите радиус окружности  3\n",
      "Введите x и y через пробел (если хотите выйти введите stop):  5 1\n",
      "Введите x и y через пробел (если хотите выйти введите stop):  4 1\n",
      "Введите x и y через пробел (если хотите выйти введите stop):  4 -1\n",
      "Введите x и y через пробел (если хотите выйти введите stop):  5 0\n",
      "Введите x и y через пробел (если хотите выйти введите stop):  stop\n"
     ]
    },
    {
     "name": "stdout",
     "output_type": "stream",
     "text": [
      "2\n"
     ]
    }
   ],
   "source": [
    "#В компьютер вводятся координаты n точек. Определить, сколько из них попадет \n",
    "#в круг радиусом r c центром в точке (a,b)\n",
    "\n",
    "u = str(input('Введите координату центра через пробел '))\n",
    "a = int(u[0])\n",
    "b = int(u[2])\n",
    "r = int(input('Введите радиус окружности '))\n",
    "q = [0]*n\n",
    "p = [0]*n\n",
    "sum=0\n",
    "s = \"привет\"\n",
    "while s!=\"stop\":  \n",
    "    s = str(input('Введите x и y через пробел (если хотите выйти введите stop): '))\n",
    "    if s==\"stop\":\n",
    "        break\n",
    "    m = s.split(' ')\n",
    "    x = int(m[0])\n",
    "    y = int(m[1])    \n",
    "    q[i],p[i]=x,y\n",
    "\n",
    "for i in range(n):    \n",
    "    if q[i]<a+r and q[i]>a-r:\n",
    "            if p[i]<b+r and p[i]>b-r:                \n",
    "                sum+=1\n",
    "print(sum)\n"
   ]
  },
  {
   "cell_type": "code",
   "execution_count": 45,
   "id": "bb968e90-276b-4d61-a68a-dc1463b112ce",
   "metadata": {},
   "outputs": [
    {
     "name": "stdin",
     "output_type": "stream",
     "text": [
      "Введите вес ученика(если все ученики взвешены введите 0):  12\n",
      "Введите вес ученика(если все ученики взвешены введите 0):  12\n",
      "Введите вес ученика(если все ученики взвешены введите 0):  12\n",
      "Введите вес ученика(если все ученики взвешены введите 0):  12\n",
      "Введите вес ученика(если все ученики взвешены введите 0):  0\n"
     ]
    },
    {
     "name": "stdout",
     "output_type": "stream",
     "text": [
      "0.8\n"
     ]
    }
   ],
   "source": [
    "#Ученику первого класса назначается дополнительно стакан молока (200 мл), если его вес составляет меньше\n",
    "#30 кг. Определить, сколько литров молока потребуется ежедневно для одного класса, состоящего из n учеников.\n",
    "#После взвешивания вес каждого ученика вводится в компьютер\n",
    "\n",
    "sum=0\n",
    "ves=1\n",
    "while ves!=0:\n",
    "    ves = int(input('Введите вес ученика(если все ученики взвешены введите 0): ')) \n",
    "    if ves==0:\n",
    "        break\n",
    "    if ves < 30:\n",
    "        sum+=0.2\n",
    "sum = round(sum,1)\n",
    "print(sum)"
   ]
  },
  {
   "cell_type": "code",
   "execution_count": null,
   "id": "41f3ff78-e4e3-4684-81fc-5f250e77ee88",
   "metadata": {},
   "outputs": [],
   "source": []
  }
 ],
 "metadata": {
  "kernelspec": {
   "display_name": "anaconda-panel-2023.05-py310",
   "language": "python",
   "name": "conda-env-anaconda-panel-2023.05-py310-py"
  },
  "language_info": {
   "codemirror_mode": {
    "name": "ipython",
    "version": 3
   },
   "file_extension": ".py",
   "mimetype": "text/x-python",
   "name": "python",
   "nbconvert_exporter": "python",
   "pygments_lexer": "ipython3",
   "version": "3.11.5"
  }
 },
 "nbformat": 4,
 "nbformat_minor": 5
}
