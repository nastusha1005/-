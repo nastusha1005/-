{
 "cells": [
  {
   "cell_type": "code",
   "execution_count": 8,
   "id": "f1199347-4cbb-4679-a325-97ac588da3c2",
   "metadata": {},
   "outputs": [
    {
     "name": "stdout",
     "output_type": "stream",
     "text": [
      "10\n"
     ]
    }
   ],
   "source": [
    "#определяю номера, которые буду выполнять\n",
    "import random\n",
    "from random import randint\n",
    "random.seed(5)\n",
    "x = randint(1,11)\n",
    "print(x)"
   ]
  },
  {
   "cell_type": "code",
   "execution_count": 12,
   "id": "25b12ceb-13a1-46ee-a22d-4abca278d02a",
   "metadata": {},
   "outputs": [
    {
     "name": "stdout",
     "output_type": "stream",
     "text": [
      "30\n"
     ]
    }
   ],
   "source": [
    "# Определить, сколько раз нужно разрезать пополам металлическую нить длинной L=0,1 м, \n",
    "# чтобы ее длина уменьшилась до атома (размер атома считтать равным 10^-10)\n",
    "n=0\n",
    "b=0.1\n",
    "while b>(10**(-10)):\n",
    "    b=b/2\n",
    "    n+=1\n",
    "print(n)\n"
   ]
  },
  {
   "cell_type": "code",
   "execution_count": 24,
   "id": "14278273-9266-45ff-b211-eddeed498a25",
   "metadata": {},
   "outputs": [
    {
     "name": "stdout",
     "output_type": "stream",
     "text": [
      "10\n"
     ]
    }
   ],
   "source": [
    "#Вкладчик положил в банк 10000 рубей под 8% в месяц. Определить через какое время сумма удвоится.\n",
    "s = 10_000\n",
    "n=0\n",
    "while s<20_000:\n",
    "    n+=1\n",
    "    s = s + 0.08*s\n",
    "print(n)"
   ]
  },
  {
   "cell_type": "code",
   "execution_count": 10,
   "id": "6d88aa77-661d-45c1-ad5d-60b7c3884f83",
   "metadata": {},
   "outputs": [
    {
     "name": "stdout",
     "output_type": "stream",
     "text": [
      "0.1 0.09966865249116204\n",
      "0.15 0.14888994760949725\n",
      "0.2 0.19739555984988078\n",
      "0.25 0.24497866312686414\n",
      "0.3 0.2914567944778671\n",
      "0.35 0.33667481938672716\n",
      "0.4 0.3805063771123649\n",
      "0.45 0.4228539261329407\n"
     ]
    }
   ],
   "source": [
    "#Вычислить сумму S, прекращая суммирование, когда очередной член суммы по абсолютной величине станет меньше 0,001,\n",
    "#при изменении аргумента x, в указанном диапазоне [a,b] с шагом h. Для сравнения в каждой точке вычислить также функцию y,\n",
    "#являющуюся аналитическим выражением ряда\n",
    "import math\n",
    "sum=0\n",
    "a = 0.1\n",
    "b = 0.5\n",
    "for i in range(0,100):\n",
    "    for x in range(int(a*20), int(b*20)):\n",
    "        x = x/20\n",
    "        s = ((-1)**i*x**(2*i+1))/(2*i+1)\n",
    "        if s<0.01: break\n",
    "        sum+=s\n",
    "        print(s,math.atan(x))\n",
    "\n"
   ]
  },
  {
   "cell_type": "code",
   "execution_count": null,
   "id": "496b8b25-e47f-4f12-98ee-b410a55b551c",
   "metadata": {},
   "outputs": [],
   "source": []
  }
 ],
 "metadata": {
  "kernelspec": {
   "display_name": "Python 3 (ipykernel)",
   "language": "python",
   "name": "python3"
  },
  "language_info": {
   "codemirror_mode": {
    "name": "ipython",
    "version": 3
   },
   "file_extension": ".py",
   "mimetype": "text/x-python",
   "name": "python",
   "nbconvert_exporter": "python",
   "pygments_lexer": "ipython3",
   "version": "3.12.4"
  }
 },
 "nbformat": 4,
 "nbformat_minor": 5
}
