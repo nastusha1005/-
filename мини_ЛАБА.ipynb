{
  "metadata": {
    "kernelspec": {
      "name": "python",
      "display_name": "Python (Pyodide)",
      "language": "python"
    },
    "language_info": {
      "codemirror_mode": {
        "name": "python",
        "version": 3
      },
      "file_extension": ".py",
      "mimetype": "text/x-python",
      "name": "python",
      "nbconvert_exporter": "python",
      "pygments_lexer": "ipython3",
      "version": "3.8"
    }
  },
  "nbformat_minor": 5,
  "nbformat": 4,
  "cells": [
    {
      "id": "c9c72789-f18e-43e5-9c45-849d2f90aa73",
      "cell_type": "code",
      "source": "import random \nfrom random import randint \nrandom.seed(114) \nx = randint(1,15) \nprint(x) ### Получается 4 \n",
      "metadata": {
        "trusted": true
      },
      "outputs": [
        {
          "name": "stdout",
          "output_type": "stream",
          "text": "4\n"
        }
      ],
      "execution_count": 3
    },
    {
      "id": "1edb5c2a-d7cb-4dd0-85ff-676e5a92d835",
      "cell_type": "code",
      "source": "''' Назовем сложностью предложения сумму количества слов и знаков препинания. Определить сложность заданного предложения.(Задание 4, 8 ЛАБА)''' \n\ns = 'привет, вася,   ...   как      у тебя дела?'  \n \nsuma=0 \ns = s.replace('...','.') \nfor i in s: \n    if i in '.,?!;-:\"()': \n        suma+=1 \n        s = s.replace(i,'&') \n             \ns = s.replace('&','') \nwhile '  ' in s: \n    if '  ' in s: \n        s = s.replace('  ',' ') \ns = s.split(' ') \nprint(len(s)+suma)",
      "metadata": {
        "trusted": true
      },
      "outputs": [
        {
          "name": "stdout",
          "output_type": "stream",
          "text": "10\n"
        }
      ],
      "execution_count": 4
    },
    {
      "id": "90fdba2c-f617-42f5-92ac-f31b39eb0ad0",
      "cell_type": "code",
      "source": "import random \nfrom random import randint \nrandom.seed(114) \nx = randint(1,20) \nprint(x) ### Получается 8",
      "metadata": {
        "trusted": true
      },
      "outputs": [
        {
          "name": "stdout",
          "output_type": "stream",
          "text": "8\n"
        }
      ],
      "execution_count": 5
    },
    {
      "id": "46476b21-b30a-42b1-ad73-62d868ad97ec",
      "cell_type": "code",
      "source": "''' Упорядочить по убыванию отрицательные элементы массива сохраняя остальные элементы на прежних местах (Задание 8, 2 уровень, 3 ЛАБА с использованием файлов)'''\nwith open (\"File.txt\",\"w\") as file:\n    file.write(\"1 2 3 4 -3 -2 -6 -7 -1 6 1 -4 8\")#Записали в файл числа\n\nFirstFile = \"\"\nwith open(\"File.txt\",\"r\") as file:\n    for line in file:\n        FirstFile+=line\nprint(FirstFile,\"Исходный файл\")\nFirstFile = FirstFile.split(' ')\nOnlySmallerZerro=[]\nfor i in range(len(FirstFile)):\n    if int(FirstFile[i])<=0:\n        OnlySmallerZerro.append(FirstFile[i])\n        FirstFile[i]=' '\nfor i in range(len(OnlySmallerZerro)): #Используем сортировку выбором\n    max_i=i\n    for j in range(i+1,len(OnlySmallerZerro)):\n        if int(OnlySmallerZerro[max_i])<int(OnlySmallerZerro[j]):\n            max_i=j\n    OnlySmallerZerro[i],OnlySmallerZerro[max_i]=OnlySmallerZerro[max_i],OnlySmallerZerro[i]\n\nk=0\nfor i in range(len(FirstFile)):\n    if FirstFile[i]==' ':\n        FirstFile[i]=OnlySmallerZerro[k]\n        k+=1\nresult=''\nfor i in FirstFile:\n    result=result+i+' '\nwith open (\"File.txt\",\"w\") as file:\n    file.write(result)#Записали в файл результат\nprint(result,\"Результат\")",
      "metadata": {
        "trusted": true
      },
      "outputs": [
        {
          "name": "stdout",
          "output_type": "stream",
          "text": "1 2 3 4 -3 -2 -6 -7 -1 6 1 -4 8 Исходный файл\n1 2 3 4 -1 -2 -3 -4 -6 6 1 -7 8  Результат\n"
        }
      ],
      "execution_count": 16
    },
    {
      "id": "0881f5bd-7330-4c7d-8caa-27201a1ea2ee",
      "cell_type": "code",
      "source": "",
      "metadata": {
        "trusted": true
      },
      "outputs": [],
      "execution_count": null
    }
  ]
}