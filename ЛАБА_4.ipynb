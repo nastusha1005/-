{
 "cells": [
  {
   "cell_type": "code",
   "execution_count": 1,
   "id": "100d27d7-cec8-418d-a8ad-88b90edbece3",
   "metadata": {},
   "outputs": [
    {
     "name": "stdout",
     "output_type": "stream",
     "text": [
      "2\n"
     ]
    }
   ],
   "source": [
    "#определяю номер 2 уровня\n",
    "import random\n",
    "from random import randint\n",
    "random.seed(14)\n",
    "x = randint(1,9)\n",
    "print(x)"
   ]
  },
  {
   "cell_type": "code",
   "execution_count": 3,
   "id": "1cd04c60-96b2-48d3-a1be-6bec17d541d4",
   "metadata": {},
   "outputs": [
    {
     "name": "stdout",
     "output_type": "stream",
     "text": [
      "2\n"
     ]
    }
   ],
   "source": [
    "#определяю номер 3 уровня\n",
    "import random\n",
    "from random import randint\n",
    "random.seed(14)\n",
    "x = randint(1,14)\n",
    "print(x)"
   ]
  },
  {
   "cell_type": "code",
   "execution_count": 7,
   "id": "c4d7e630-6cfb-4b74-8264-7d8ddfc05a07",
   "metadata": {},
   "outputs": [
    {
     "name": "stdout",
     "output_type": "stream",
     "text": [
      "[1, 2, -3, -1, 0]\n",
      "[3, 2, 1, -4, 38]\n",
      "[1, 0, -3, 2, 20]\n",
      "[1, 2, -7, -4, -3]\n",
      "[1, 2, 3, -10, 5]\n",
      "[-8, 4, -3, -1, 9]\n",
      "[0, -7, 3, -9, 5]\n"
     ]
    }
   ],
   "source": [
    "''' Дана матрица A размером 7 на 5. Если количество положительных элементов столбца больше количества отрицательных, то максимальный элемент этого столбца заменить на 0,  \n",
    "в противном случае максимальный элемент заменить на номер максимального элемента этого столбца''' \n",
    "m = [[1,2,-3,-1,50], \n",
    "     [3,2,5,-4,38], \n",
    "     [1,8,-3,10000,20], \n",
    "     [1,2,-7,-4,-3], \n",
    "     [1,2,3,-10,5],\n",
    "     [-8,4,-3,-1,9],\n",
    "     [6,-7,3,-9,5]]\n",
    "\n",
    "maxi_num = [0]*5\n",
    "for i in range (5):\n",
    "    maxi=0\n",
    "    for j in range(7):\n",
    "        if maxi<m[j][i]:\n",
    "            maxi = m[j][i]\n",
    "            maxi_num[i]=j\n",
    "        \n",
    "\n",
    "\n",
    "for i in range(5):\n",
    "    k1=k2=0\n",
    "    for j in range(7):\n",
    "        if m[j][i]>0:\n",
    "            k1+=1\n",
    "        else: \n",
    "            k2+=1\n",
    "    for j in range(7):\n",
    "        if k1>k2:\n",
    "            m[maxi_num[i]][i]=0\n",
    "        else:\n",
    "            m[maxi_num[i]][i]= maxi_num[i]\n",
    "for i in m:\n",
    "    print(i)"
   ]
  },
  {
   "cell_type": "code",
   "execution_count": 9,
   "id": "06618b95-d4d7-48a3-9ab5-6fedcd212db3",
   "metadata": {},
   "outputs": [
    {
     "name": "stdout",
     "output_type": "stream",
     "text": [
      "[2, 2, -6, -15, 77]\n",
      "[3, 2, 5, -4, 38]\n",
      "[1, 8, -3, 1, 20]\n",
      "[1, 2, -7, 4, -3]\n",
      "[1, 2, 3, -10, 5]\n",
      "[-8, 4, -3, 1, 9]\n",
      "[6, -7, 3, -9, 5]\n",
      "[7, -1, -1, 1, 1]\n",
      "[1, 1, 1, 1, 1]\n",
      "[1, 1, 1, 1, 1]\n"
     ]
    }
   ],
   "source": [
    "''' Дана матрица А размером 10 на 5. Преобразовать матрицу следующим образом: заменить первый элемент столбца суммой элементов столбца, \n",
    "расположенных после максимального элемента, если максимальный элемент находится в первой половине столбца'''\n",
    "m = [[1,2,-3,1,50], \n",
    "     [3,2,5,-4,38], \n",
    "     [1,8,-3,1,20], \n",
    "     [1,2,-7,4,-3], \n",
    "     [1,2,3,-10,5],\n",
    "     [-8,4,-3,1,9],\n",
    "     [6,-7,3,-9,5],\n",
    "     [7,-1,-1,1,1],\n",
    "     [1,1,1,1,1,1],\n",
    "     [1,1,1,1,1,1]]\n",
    "n = []\n",
    "for i in range(5):\n",
    "    a = []\n",
    "    for j in range(10):\n",
    "        a.append(m[j][i])\n",
    "    n.append(a)\n",
    "\n",
    "maxi=[0]*5\n",
    "maxi_num = [0]*5\n",
    "for i in range(5):\n",
    "    for j in range(10):\n",
    "        if maxi[i]<n[i][j]:\n",
    "            maxi[i]=n[i][j]\n",
    "            maxi_num[i]=j\n",
    "\n",
    "for i in range(5):\n",
    "    sumi=0\n",
    "    for j in range(maxi_num[i]+1,10):\n",
    "        sumi+=n[i][j]\n",
    "    n[i][0]=sumi\n",
    "\n",
    "\n",
    "k = []\n",
    "for i in range(10):\n",
    "    a = []\n",
    "    for j in range(5):\n",
    "        a.append(n[j][i])\n",
    "    k.append(a)\n",
    "for i in range(10):\n",
    "    print(k[i])"
   ]
  },
  {
   "cell_type": "code",
   "execution_count": null,
   "id": "2bf99a6a-0380-478e-926d-e32a7acffcd6",
   "metadata": {},
   "outputs": [],
   "source": []
  }
 ],
 "metadata": {
  "kernelspec": {
   "display_name": "anaconda-2024.02-py310",
   "language": "python",
   "name": "conda-env-anaconda-2024.02-py310-py"
  },
  "language_info": {
   "codemirror_mode": {
    "name": "ipython",
    "version": 3
   },
   "file_extension": ".py",
   "mimetype": "text/x-python",
   "name": "python",
   "nbconvert_exporter": "python",
   "pygments_lexer": "ipython3",
   "version": "3.10.14"
  }
 },
 "nbformat": 4,
 "nbformat_minor": 5
}
